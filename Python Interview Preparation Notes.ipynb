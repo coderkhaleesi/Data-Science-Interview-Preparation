{
 "cells": [
  {
   "cell_type": "markdown",
   "metadata": {},
   "source": [
    "## Python Interview Preparation\n",
    "\n",
    "\n",
    "### Context Managers and the with keyword"
   ]
  },
  {
   "cell_type": "code",
   "execution_count": 2,
   "metadata": {},
   "outputs": [],
   "source": [
    "from contextlib import contextmanager"
   ]
  },
  {
   "cell_type": "code",
   "execution_count": 27,
   "metadata": {},
   "outputs": [],
   "source": [
    "@contextmanager\n",
    "def managed_file(name):\n",
    "    try:\n",
    "        f = open(name, 'r+')\n",
    "        yield f\n",
    "    finally:\n",
    "        f.close()\n",
    "    "
   ]
  },
  {
   "cell_type": "code",
   "execution_count": 33,
   "metadata": {},
   "outputs": [],
   "source": [
    "with managed_file('hello.txt') as f:\n",
    "    f.write('x')\n",
    "    f.read()\n",
    "\n",
    "class Indenter:\n",
    "    def __init__(self):\n",
    "        self.y = 0\n",
    "    \n",
    "    def __enter__(self):\n",
    "        self.y += 1\n",
    "        return self\n",
    "        \n",
    "    def print(self, name):\n",
    "        print(' '*self.y + name)\n",
    "        \n",
    "    def __exit__(self, exc_type, exc_val, exc_tb):\n",
    "        self.y -= 1\n",
    "        "
   ]
  },
  {
   "cell_type": "code",
   "execution_count": 34,
   "metadata": {},
   "outputs": [
    {
     "name": "stdout",
     "output_type": "stream",
     "text": [
      " hi!\n",
      "  hello\n",
      "   bonjour\n",
      " hey\n"
     ]
    }
   ],
   "source": [
    "with Indenter() as indent:\n",
    "    indent.print('hi!')\n",
    "    with indent:\n",
    "        indent.print('hello')\n",
    "        with indent:\n",
    "            indent.print('bonjour')\n",
    "    indent.print('hey')\n"
   ]
  },
  {
   "cell_type": "markdown",
   "metadata": {},
   "source": [
    "Symbol table in Python/any other language : \n",
    "\n",
    "If module is imported, then name is not main for that module, so the main code is not executed. But when you want to execute a module as a script, then essentially the name of the module is main. "
   ]
  },
  {
   "cell_type": "markdown",
   "metadata": {},
   "source": [
    "_var - not enforced as such, to denote private variables, methods starting with _ aren't imported into other modules unless they are specifically imported by name or are mentioned in the __all__ list of a module\n",
    "\n",
    "var_ - To avoid naming conflicts with a special keyword. For e.g. class -> class_\n",
    "\n",
    "__var - Triggers name mangling. Enforced by the Python interpreter\n",
    "\n",
    "__ var__ - Indicates special methods defined by the Python language. Avoid\n",
    "this naming scheme for your own attributes.\n",
    "\n"
   ]
  },
  {
   "cell_type": "code",
   "execution_count": 45,
   "metadata": {},
   "outputs": [
    {
     "name": "stdout",
     "output_type": "stream",
     "text": [
      "Hi Tanya, your class is 2a\n",
      "Hello, Tanya 42\n"
     ]
    }
   ],
   "source": [
    "name= 'Tanya'\n",
    "class_ = 42\n",
    "print('Hi %s, your class is %x' % (name, class_))\n",
    "print('Hello, {} {}'.format(name, class_))"
   ]
  },
  {
   "cell_type": "code",
   "execution_count": 46,
   "metadata": {},
   "outputs": [
    {
     "name": "stdout",
     "output_type": "stream",
     "text": [
      "The Zen of Python, by Tim Peters\n",
      "\n",
      "Beautiful is better than ugly.\n",
      "Explicit is better than implicit.\n",
      "Simple is better than complex.\n",
      "Complex is better than complicated.\n",
      "Flat is better than nested.\n",
      "Sparse is better than dense.\n",
      "Readability counts.\n",
      "Special cases aren't special enough to break the rules.\n",
      "Although practicality beats purity.\n",
      "Errors should never pass silently.\n",
      "Unless explicitly silenced.\n",
      "In the face of ambiguity, refuse the temptation to guess.\n",
      "There should be one-- and preferably only one --obvious way to do it.\n",
      "Although that way may not be obvious at first unless you're Dutch.\n",
      "Now is better than never.\n",
      "Although never is often better than *right* now.\n",
      "If the implementation is hard to explain, it's a bad idea.\n",
      "If the implementation is easy to explain, it may be a good idea.\n",
      "Namespaces are one honking great idea -- let's do more of those!\n"
     ]
    }
   ],
   "source": [
    "import this"
   ]
  },
  {
   "cell_type": "code",
   "execution_count": 72,
   "metadata": {},
   "outputs": [],
   "source": [
    "def func1(name):\n",
    "    print(name)\n",
    "def func2(name):\n",
    "    print(f'2+{name}')\n",
    "    return func1"
   ]
  },
  {
   "cell_type": "code",
   "execution_count": 75,
   "metadata": {},
   "outputs": [
    {
     "name": "stdout",
     "output_type": "stream",
     "text": [
      "2+Tanya\n",
      "Dixit\n"
     ]
    }
   ],
   "source": [
    "x = [func1, func2]\n",
    "\n",
    "x[1]('Tanya')('Dixit')"
   ]
  },
  {
   "cell_type": "code",
   "execution_count": 76,
   "metadata": {},
   "outputs": [
    {
     "name": "stdout",
     "output_type": "stream",
     "text": [
      "0x1f9b1426950\n",
      "0x1f9b1426950\n"
     ]
    }
   ],
   "source": [
    "y = func1\n",
    "print(hex(id(y)))\n",
    "print(hex(id(func1)))"
   ]
  },
  {
   "cell_type": "code",
   "execution_count": 78,
   "metadata": {},
   "outputs": [
    {
     "data": {
      "text/plain": [
       "<function __main__.func1(name)>"
      ]
     },
     "execution_count": 78,
     "metadata": {},
     "output_type": "execute_result"
    }
   ],
   "source": [
    "y"
   ]
  },
  {
   "cell_type": "code",
   "execution_count": 84,
   "metadata": {},
   "outputs": [],
   "source": [
    "#Functions that can take other functions as inputs\n",
    "\n",
    "x = map(func2, ['Tanya', 'Palaq', 'Khyati'])"
   ]
  },
  {
   "cell_type": "code",
   "execution_count": 85,
   "metadata": {},
   "outputs": [
    {
     "name": "stdout",
     "output_type": "stream",
     "text": [
      "2+Tanya\n",
      "2+Palaq\n",
      "2+Khyati\n",
      "[<function func1 at 0x000001F9B1426950>, <function func1 at 0x000001F9B1426950>, <function func1 at 0x000001F9B1426950>]\n"
     ]
    }
   ],
   "source": [
    "print(list(x))"
   ]
  },
  {
   "cell_type": "code",
   "execution_count": 87,
   "metadata": {},
   "outputs": [
    {
     "name": "stdout",
     "output_type": "stream",
     "text": [
      "7\n"
     ]
    }
   ],
   "source": [
    "#Function inside a function. Take a good look at the inner function adder now. Notice\n",
    "# how they no longer have a n parameter? But somehow they can\n",
    "# still access the n parameter defined in the parent function. In fact,\n",
    "# they seem to capture and “remember” the value of that argument.\n",
    "# Functions that do this are called lexical closures (or just closures, for\n",
    "# short). A closure remembers the values from its enclosing lexical\n",
    "# scope even when the program flow is no longer in that scope.\n",
    "\n",
    "def Add(n):\n",
    "    def adder(x):\n",
    "        return x+n\n",
    "    return adder\n",
    "\n",
    "adder_3 = Add(3)\n",
    "print(adder_3(4))"
   ]
  },
  {
   "cell_type": "markdown",
   "metadata": {},
   "source": [
    "### Lambdas\n",
    "\n",
    "#### Very useful for function expressions. Don't need to bind the function object to a name before using it."
   ]
  },
  {
   "cell_type": "code",
   "execution_count": 98,
   "metadata": {},
   "outputs": [
    {
     "data": {
      "text/plain": [
       "5"
      ]
     },
     "execution_count": 98,
     "metadata": {},
     "output_type": "execute_result"
    }
   ],
   "source": [
    "#A shortcut for declaring small anonymous functions\n",
    "func = lambda arg1, arg2 : arg1+arg2\n",
    "func(2,3)"
   ]
  },
  {
   "cell_type": "code",
   "execution_count": 99,
   "metadata": {},
   "outputs": [
    {
     "data": {
      "text/plain": [
       "6"
      ]
     },
     "execution_count": 99,
     "metadata": {},
     "output_type": "execute_result"
    }
   ],
   "source": [
    "(lambda x,y: x*y)(2,3)"
   ]
  },
  {
   "cell_type": "code",
   "execution_count": 101,
   "metadata": {},
   "outputs": [
    {
     "name": "stdout",
     "output_type": "stream",
     "text": [
      "[(4, 'a'), (2, 'b'), (3, 'c'), (1, 'd')]\n"
     ]
    }
   ],
   "source": [
    "tuples = [(1, 'd'), (2, 'b'), (4, 'a'), (3, 'c')]\n",
    "print(sorted(tuples, key=lambda x:x[1]))"
   ]
  },
  {
   "cell_type": "code",
   "execution_count": null,
   "metadata": {},
   "outputs": [],
   "source": []
  },
  {
   "cell_type": "code",
   "execution_count": null,
   "metadata": {},
   "outputs": [],
   "source": []
  },
  {
   "cell_type": "code",
   "execution_count": null,
   "metadata": {},
   "outputs": [],
   "source": []
  },
  {
   "cell_type": "code",
   "execution_count": null,
   "metadata": {},
   "outputs": [],
   "source": []
  },
  {
   "cell_type": "code",
   "execution_count": null,
   "metadata": {},
   "outputs": [],
   "source": []
  }
 ],
 "metadata": {
  "kernelspec": {
   "display_name": "Python 3",
   "language": "python",
   "name": "python3"
  },
  "language_info": {
   "codemirror_mode": {
    "name": "ipython",
    "version": 3
   },
   "file_extension": ".py",
   "mimetype": "text/x-python",
   "name": "python",
   "nbconvert_exporter": "python",
   "pygments_lexer": "ipython3",
   "version": "3.6.10"
  }
 },
 "nbformat": 4,
 "nbformat_minor": 4
}
